{
 "cells": [
  {
   "cell_type": "markdown",
   "metadata": {},
   "source": [
    "<a></a>\n",
    "   # ** &nbsp;&nbsp;&nbsp;&nbsp;&nbsp;&nbsp;&nbsp;&nbsp;&nbsp;&nbsp;&nbsp;&nbsp;&nbsp;&nbsp;&nbsp;&nbsp;&nbsp;&nbsp;&nbsp;&nbsp;&nbsp;&nbsp;&nbsp;&nbsp;&nbsp;&nbsp;&nbsp;&nbsp;&nbsp;&nbsp; &nbsp;&nbsp;&nbsp;&nbsp;&nbsp;&nbsp;&nbsp;&nbsp;&nbsp;&nbsp;&nbsp;&nbsp;&nbsp;House Rent Prediction**"
   ]
  },
  {
   "cell_type": "markdown",
   "metadata": {},
   "source": [
    "<a id=\"1\"></a>\n",
    "## 1.**Introduction**"
   ]
  },
  {
   "cell_type": "markdown",
   "metadata": {},
   "source": [
    "&nbsp;&nbsp; The task at hand is to predict house rents for the houses which are for sale. We can consider this problem as supervised learning problem where we have the target variable(rent) and predictors for some data points and we have to predict the target variable for data points which doesn't have the target variable(houses which are for sale). House price/rent prediction is an interesting domain which allows us to play with numerous algorithms-The freedom which may not be available with any other domains. In this notebook, exploratory data analysis is performed and some predictive models are built for the data available."
   ]
  },
  {
   "cell_type": "markdown",
   "metadata": {},
   "source": [
    "<a id=\"0\"></a>\n",
    "## **Contents**"
   ]
  },
  {
   "cell_type": "markdown",
   "metadata": {},
   "source": [
    "[1. Introduction](#1)  \n",
    "[2. Loading Libraries](#2)  \n",
    "[3. Importing Data](#3)  \n",
    "[4. Data Cleaning ](#4)\n",
    "\n",
    "&nbsp; &nbsp;&nbsp; &nbsp; [4.1. Basic Properties](#4-1)\n",
    "\n",
    "&nbsp; &nbsp;&nbsp; &nbsp; [4.2 Treating Misisng Data](#4-2)\n",
    "\n",
    "&nbsp; &nbsp;&nbsp; &nbsp; [4.3 Treating Outliers](#4-3)\n",
    "\n",
    "\n",
    "[5. Exploratory Data Analysis(EDA)](#5)\n",
    "\n",
    "&nbsp; &nbsp;&nbsp; &nbsp; [5.1  Locality](#5.1)\n",
    "\n",
    "&nbsp; &nbsp;&nbsp; &nbsp; [5.2  ZipCode](#5.2)\n",
    "\n",
    "&nbsp; &nbsp;&nbsp; &nbsp; [5.3  Area Space](#5.3)\n",
    "\n",
    "&nbsp; &nbsp;&nbsp; &nbsp; [5.4  Bedrooms](#5.4)\n",
    "\n",
    "&nbsp; &nbsp;&nbsp; &nbsp; [5.5 Bathrooms](#5.5)\n",
    "\n",
    "[6. Model Building](#6)\n",
    "\n",
    "&nbsp; &nbsp;&nbsp; &nbsp; [6.1. Preprocessing](#6-1)\n",
    "\n",
    "&nbsp; &nbsp;&nbsp; &nbsp; [6.2. Linear Regression](#6-2)\n",
    "\n",
    "&nbsp; &nbsp;&nbsp; &nbsp; [6.3. Lasso Regression](#6-3)\n",
    "\n",
    "&nbsp; &nbsp;&nbsp; &nbsp; [6.4. Random Forest](#6-4)\n",
    "\n",
    "&nbsp; &nbsp;&nbsp; &nbsp; [ 6.5. XGBoost](#6-5)\n",
    "\n",
    "\n",
    "[7. Future Work](#7)"
   ]
  },
  {
   "cell_type": "markdown",
   "metadata": {},
   "source": [
    "\n",
    "<a id=\"2\"></a>\n",
    "## 2.**Loading Libraries**"
   ]
  },
  {
   "cell_type": "code",
   "execution_count": 1,
   "metadata": {},
   "outputs": [
    {
     "name": "stderr",
     "output_type": "stream",
     "text": [
      "C:\\ProgramData\\Anaconda3\\lib\\site-packages\\sklearn\\cross_validation.py:41: DeprecationWarning: This module was deprecated in version 0.18 in favor of the model_selection module into which all the refactored classes and functions are moved. Also note that the interface of the new CV iterators are different from that of this module. This module will be removed in 0.20.\n",
      "  \"This module will be removed in 0.20.\", DeprecationWarning)\n"
     ]
    }
   ],
   "source": [
    "import pandas as pd\n",
    "from sklearn.ensemble import RandomForestRegressor\n",
    "from sklearn.cross_validation import train_test_split\n",
    "from sklearn.preprocessing import LabelEncoder\n",
    "import numpy as np\n",
    "from sklearn.preprocessing import Imputer\n",
    "import matplotlib.pyplot as plt\n",
    "from sklearn.metrics import mean_squared_error, r2_score\n",
    "from math import sqrt\n",
    "import seaborn as sns\n",
    "from scipy import stats\n",
    "from xgboost import XGBRegressor\n",
    "from scipy.stats import uniform, randint\n",
    "from sklearn.model_selection import cross_val_score, GridSearchCV, KFold, RandomizedSearchCV, train_test_split\n",
    "from sklearn import datasets, linear_model\n",
    "from sklearn.manifold import TSNE"
   ]
  },
  {
   "cell_type": "markdown",
   "metadata": {},
   "source": [
    "<a id=\"3\"></a>\n",
    "## 3.**Importing Data**"
   ]
  },
  {
   "cell_type": "markdown",
   "metadata": {},
   "source": [
    "The data extracted has \";\" as the seperator but there are some records where \";\" is used as a part of the description. Therfore, those rows has to be removed from the data. 'error_bad_lines=False' does this for us."
   ]
  },
  {
   "cell_type": "code",
   "execution_count": 2,
   "metadata": {},
   "outputs": [
    {
     "name": "stderr",
     "output_type": "stream",
     "text": [
      "b'Skipping line 306: expected 17 fields, saw 19\\nSkipping line 468: expected 17 fields, saw 18\\nSkipping line 493: expected 17 fields, saw 18\\nSkipping line 538: expected 17 fields, saw 18\\nSkipping line 799: expected 17 fields, saw 18\\nSkipping line 800: expected 17 fields, saw 18\\nSkipping line 801: expected 17 fields, saw 18\\nSkipping line 802: expected 17 fields, saw 18\\nSkipping line 803: expected 17 fields, saw 18\\nSkipping line 804: expected 17 fields, saw 18\\nSkipping line 805: expected 17 fields, saw 18\\nSkipping line 806: expected 17 fields, saw 18\\nSkipping line 807: expected 17 fields, saw 18\\nSkipping line 808: expected 17 fields, saw 18\\nSkipping line 809: expected 17 fields, saw 18\\nSkipping line 810: expected 17 fields, saw 18\\nSkipping line 811: expected 17 fields, saw 18\\nSkipping line 812: expected 17 fields, saw 18\\nSkipping line 813: expected 17 fields, saw 18\\nSkipping line 814: expected 17 fields, saw 18\\nSkipping line 815: expected 17 fields, saw 18\\nSkipping line 816: expected 17 fields, saw 18\\nSkipping line 817: expected 17 fields, saw 18\\nSkipping line 818: expected 17 fields, saw 18\\nSkipping line 819: expected 17 fields, saw 18\\nSkipping line 820: expected 17 fields, saw 18\\nSkipping line 821: expected 17 fields, saw 18\\nSkipping line 822: expected 17 fields, saw 18\\nSkipping line 823: expected 17 fields, saw 18\\nSkipping line 824: expected 17 fields, saw 18\\nSkipping line 825: expected 17 fields, saw 18\\nSkipping line 826: expected 17 fields, saw 18\\nSkipping line 827: expected 17 fields, saw 18\\nSkipping line 828: expected 17 fields, saw 18\\nSkipping line 829: expected 17 fields, saw 18\\nSkipping line 830: expected 17 fields, saw 18\\nSkipping line 831: expected 17 fields, saw 18\\nSkipping line 832: expected 17 fields, saw 18\\nSkipping line 833: expected 17 fields, saw 18\\nSkipping line 1351: expected 17 fields, saw 25\\nSkipping line 1910: expected 17 fields, saw 18\\nSkipping line 1926: expected 17 fields, saw 20\\nSkipping line 2124: expected 17 fields, saw 18\\nSkipping line 2221: expected 17 fields, saw 19\\nSkipping line 2228: expected 17 fields, saw 20\\nSkipping line 2520: expected 17 fields, saw 20\\nSkipping line 2538: expected 17 fields, saw 18\\nSkipping line 2607: expected 17 fields, saw 18\\nSkipping line 2666: expected 17 fields, saw 20\\nSkipping line 2667: expected 17 fields, saw 19\\nSkipping line 2688: expected 17 fields, saw 18\\nSkipping line 2696: expected 17 fields, saw 18\\nSkipping line 2699: expected 17 fields, saw 19\\nSkipping line 2703: expected 17 fields, saw 18\\nSkipping line 2715: expected 17 fields, saw 21\\nSkipping line 2841: expected 17 fields, saw 18\\nSkipping line 2878: expected 17 fields, saw 18\\nSkipping line 2879: expected 17 fields, saw 18\\nSkipping line 2887: expected 17 fields, saw 18\\nSkipping line 2914: expected 17 fields, saw 20\\nSkipping line 2922: expected 17 fields, saw 19\\nSkipping line 2970: expected 17 fields, saw 18\\nSkipping line 3111: expected 17 fields, saw 19\\nSkipping line 3303: expected 17 fields, saw 24\\nSkipping line 3338: expected 17 fields, saw 19\\nSkipping line 3490: expected 17 fields, saw 18\\nSkipping line 3491: expected 17 fields, saw 18\\nSkipping line 3492: expected 17 fields, saw 18\\nSkipping line 3493: expected 17 fields, saw 18\\nSkipping line 3494: expected 17 fields, saw 18\\nSkipping line 3495: expected 17 fields, saw 18\\nSkipping line 3496: expected 17 fields, saw 18\\nSkipping line 3497: expected 17 fields, saw 18\\nSkipping line 3498: expected 17 fields, saw 18\\nSkipping line 3499: expected 17 fields, saw 18\\nSkipping line 3500: expected 17 fields, saw 18\\nSkipping line 3501: expected 17 fields, saw 18\\nSkipping line 3502: expected 17 fields, saw 18\\nSkipping line 3503: expected 17 fields, saw 18\\nSkipping line 3504: expected 17 fields, saw 18\\nSkipping line 3505: expected 17 fields, saw 18\\nSkipping line 3506: expected 17 fields, saw 18\\nSkipping line 3507: expected 17 fields, saw 18\\nSkipping line 3508: expected 17 fields, saw 18\\nSkipping line 3509: expected 17 fields, saw 18\\nSkipping line 3510: expected 17 fields, saw 18\\nSkipping line 3511: expected 17 fields, saw 18\\nSkipping line 3512: expected 17 fields, saw 18\\nSkipping line 3513: expected 17 fields, saw 18\\nSkipping line 3514: expected 17 fields, saw 18\\nSkipping line 3515: expected 17 fields, saw 18\\nSkipping line 3516: expected 17 fields, saw 18\\nSkipping line 3517: expected 17 fields, saw 18\\nSkipping line 3518: expected 17 fields, saw 18\\nSkipping line 3519: expected 17 fields, saw 18\\nSkipping line 3520: expected 17 fields, saw 18\\nSkipping line 3521: expected 17 fields, saw 18\\nSkipping line 3522: expected 17 fields, saw 18\\nSkipping line 3523: expected 17 fields, saw 18\\nSkipping line 3524: expected 17 fields, saw 18\\nSkipping line 3525: expected 17 fields, saw 18\\nSkipping line 3526: expected 17 fields, saw 18\\nSkipping line 3527: expected 17 fields, saw 18\\nSkipping line 3528: expected 17 fields, saw 18\\nSkipping line 3529: expected 17 fields, saw 18\\nSkipping line 3530: expected 17 fields, saw 18\\nSkipping line 3531: expected 17 fields, saw 18\\nSkipping line 3532: expected 17 fields, saw 18\\nSkipping line 3533: expected 17 fields, saw 18\\nSkipping line 3534: expected 17 fields, saw 18\\nSkipping line 3535: expected 17 fields, saw 18\\nSkipping line 3536: expected 17 fields, saw 18\\nSkipping line 3537: expected 17 fields, saw 18\\nSkipping line 3538: expected 17 fields, saw 18\\nSkipping line 3539: expected 17 fields, saw 18\\nSkipping line 3540: expected 17 fields, saw 18\\nSkipping line 3541: expected 17 fields, saw 18\\nSkipping line 3542: expected 17 fields, saw 18\\nSkipping line 3543: expected 17 fields, saw 18\\nSkipping line 3544: expected 17 fields, saw 18\\nSkipping line 3664: expected 17 fields, saw 20\\nSkipping line 3711: expected 17 fields, saw 18\\nSkipping line 3712: expected 17 fields, saw 18\\nSkipping line 3715: expected 17 fields, saw 19\\nSkipping line 3848: expected 17 fields, saw 21\\nSkipping line 3922: expected 17 fields, saw 18\\nSkipping line 3954: expected 17 fields, saw 20\\nSkipping line 3958: expected 17 fields, saw 18\\nSkipping line 3964: expected 17 fields, saw 27\\nSkipping line 4465: expected 17 fields, saw 18\\nSkipping line 4484: expected 17 fields, saw 19\\nSkipping line 4485: expected 17 fields, saw 18\\nSkipping line 4508: expected 17 fields, saw 18\\nSkipping line 4509: expected 17 fields, saw 18\\nSkipping line 4510: expected 17 fields, saw 18\\nSkipping line 4511: expected 17 fields, saw 18\\nSkipping line 4512: expected 17 fields, saw 18\\nSkipping line 4513: expected 17 fields, saw 18\\nSkipping line 4514: expected 17 fields, saw 18\\nSkipping line 4515: expected 17 fields, saw 18\\nSkipping line 4516: expected 17 fields, saw 18\\nSkipping line 4517: expected 17 fields, saw 18\\nSkipping line 4518: expected 17 fields, saw 18\\nSkipping line 4519: expected 17 fields, saw 18\\nSkipping line 4520: expected 17 fields, saw 18\\nSkipping line 4521: expected 17 fields, saw 18\\nSkipping line 4522: expected 17 fields, saw 18\\nSkipping line 4523: expected 17 fields, saw 18\\nSkipping line 4524: expected 17 fields, saw 18\\nSkipping line 4525: expected 17 fields, saw 18\\nSkipping line 4526: expected 17 fields, saw 18\\nSkipping line 4527: expected 17 fields, saw 18\\nSkipping line 4528: expected 17 fields, saw 18\\nSkipping line 4529: expected 17 fields, saw 18\\nSkipping line 4530: expected 17 fields, saw 18\\nSkipping line 4531: expected 17 fields, saw 18\\nSkipping line 4532: expected 17 fields, saw 18\\nSkipping line 4533: expected 17 fields, saw 18\\nSkipping line 4534: expected 17 fields, saw 18\\nSkipping line 4535: expected 17 fields, saw 18\\nSkipping line 4536: expected 17 fields, saw 18\\nSkipping line 4537: expected 17 fields, saw 18\\nSkipping line 4538: expected 17 fields, saw 18\\nSkipping line 4539: expected 17 fields, saw 18\\nSkipping line 4540: expected 17 fields, saw 18\\nSkipping line 4541: expected 17 fields, saw 18\\nSkipping line 4542: expected 17 fields, saw 18\\nSkipping line 4543: expected 17 fields, saw 18\\nSkipping line 4544: expected 17 fields, saw 18\\n'\n"
     ]
    }
   ],
   "source": [
    "zillowData=pd.read_csv(r'D:\\Datasets\\Zillow\\zillow.csv',sep=\";\",error_bad_lines=False,encoding='latin-1')"
   ]
  },
  {
   "cell_type": "markdown",
   "metadata": {},
   "source": [
    "<a id=\"4\"></a>\n",
    "## 4. **Data Cleaning**"
   ]
  },
  {
   "cell_type": "markdown",
   "metadata": {},
   "source": [
    "<a id=\"4-1\"></a>\n",
    "### 4.1. Basic Properties"
   ]
  },
  {
   "cell_type": "markdown",
   "metadata": {},
   "source": [
    "Let us view some basic properties and charecteriscs of the current dataset."
   ]
  },
  {
   "cell_type": "code",
   "execution_count": 3,
   "metadata": {},
   "outputs": [
    {
     "name": "stdout",
     "output_type": "stream",
     "text": [
      "Columns in the dataset:\n",
      "['ZPID', 'Type', 'ZipCode', 'Locality', 'State', 'Latitude', 'Longitude', 'Status', 'Description', 'CardBadge', 'Bedrooms', 'Bathrooms', 'Price', 'AreaSpace', 'Price/sqft', 'Mortgage', 'CashFlow'] z\n",
      "\n",
      "Number of records in the dataset: 4424\n"
     ]
    }
   ],
   "source": [
    "print(\"Columns in the dataset:\")\n",
    "print(list(zillowData.columns),\"z\\n\")\n",
    "print(\"Number of records in the dataset:\",len(zillowData.index))"
   ]
  },
  {
   "cell_type": "code",
   "execution_count": 4,
   "metadata": {},
   "outputs": [
    {
     "data": {
      "text/html": [
       "<div>\n",
       "<style scoped>\n",
       "    .dataframe tbody tr th:only-of-type {\n",
       "        vertical-align: middle;\n",
       "    }\n",
       "\n",
       "    .dataframe tbody tr th {\n",
       "        vertical-align: top;\n",
       "    }\n",
       "\n",
       "    .dataframe thead th {\n",
       "        text-align: right;\n",
       "    }\n",
       "</style>\n",
       "<table border=\"1\" class=\"dataframe\">\n",
       "  <thead>\n",
       "    <tr style=\"text-align: right;\">\n",
       "      <th></th>\n",
       "      <th>ZPID</th>\n",
       "      <th>Type</th>\n",
       "      <th>ZipCode</th>\n",
       "      <th>Locality</th>\n",
       "      <th>State</th>\n",
       "      <th>Latitude</th>\n",
       "      <th>Longitude</th>\n",
       "      <th>Status</th>\n",
       "      <th>Description</th>\n",
       "      <th>CardBadge</th>\n",
       "      <th>Bedrooms</th>\n",
       "      <th>Bathrooms</th>\n",
       "      <th>Price</th>\n",
       "      <th>AreaSpace</th>\n",
       "      <th>Price/sqft</th>\n",
       "      <th>Mortgage</th>\n",
       "      <th>CashFlow</th>\n",
       "    </tr>\n",
       "  </thead>\n",
       "  <tbody>\n",
       "    <tr>\n",
       "      <th>0</th>\n",
       "      <td>2086649593</td>\n",
       "      <td>rent</td>\n",
       "      <td>22201</td>\n",
       "      <td>Arlington</td>\n",
       "      <td>VA</td>\n",
       "      <td>38.888504</td>\n",
       "      <td>-77.095484</td>\n",
       "      <td>Apartment for rent</td>\n",
       "      <td>NaN</td>\n",
       "      <td>Updated today</td>\n",
       "      <td>1.0</td>\n",
       "      <td>1.0</td>\n",
       "      <td>1750.0</td>\n",
       "      <td>665.0</td>\n",
       "      <td>2.6</td>\n",
       "      <td>777720.0</td>\n",
       "      <td>-773.0</td>\n",
       "    </tr>\n",
       "    <tr>\n",
       "      <th>1</th>\n",
       "      <td>1001453804</td>\n",
       "      <td>rent</td>\n",
       "      <td>22201</td>\n",
       "      <td>Arlington</td>\n",
       "      <td>VA</td>\n",
       "      <td>38.885677</td>\n",
       "      <td>-7.709257</td>\n",
       "      <td>Zoso Flats</td>\n",
       "      <td>Move-in Special: Receive $1000 Off January Ren...</td>\n",
       "      <td>21 photos</td>\n",
       "      <td>1.0</td>\n",
       "      <td>1.0</td>\n",
       "      <td>2300.0</td>\n",
       "      <td>615.0</td>\n",
       "      <td>3.7</td>\n",
       "      <td>1021842.0</td>\n",
       "      <td>-1015.0</td>\n",
       "    </tr>\n",
       "  </tbody>\n",
       "</table>\n",
       "</div>"
      ],
      "text/plain": [
       "         ZPID  Type  ZipCode   Locality State   Latitude  Longitude  \\\n",
       "0  2086649593  rent    22201  Arlington    VA  38.888504 -77.095484   \n",
       "1  1001453804  rent    22201  Arlington    VA  38.885677  -7.709257   \n",
       "\n",
       "               Status                                        Description  \\\n",
       "0  Apartment for rent                                                NaN   \n",
       "1          Zoso Flats  Move-in Special: Receive $1000 Off January Ren...   \n",
       "\n",
       "       CardBadge  Bedrooms  Bathrooms   Price  AreaSpace  Price/sqft  \\\n",
       "0  Updated today       1.0        1.0  1750.0      665.0         2.6   \n",
       "1      21 photos       1.0        1.0  2300.0      615.0         3.7   \n",
       "\n",
       "    Mortgage  CashFlow  \n",
       "0   777720.0    -773.0  \n",
       "1  1021842.0   -1015.0  "
      ]
     },
     "execution_count": 4,
     "metadata": {},
     "output_type": "execute_result"
    }
   ],
   "source": [
    "#Contents in the dataset\n",
    "zillowData.head(2)"
   ]
  },
  {
   "cell_type": "markdown",
   "metadata": {},
   "source": [
    "Some of the models we are going to use are sensitive to missing values and outliers. Therefore, the data needs to be cleaned before we proceed further. "
   ]
  },
  {
   "cell_type": "markdown",
   "metadata": {},
   "source": [
    "<a id=\"4-2\"></a>\n",
    "### 4.2. Treating Missing Data"
   ]
  },
  {
   "cell_type": "markdown",
   "metadata": {},
   "source": [
    "Let us view the percentage of missing values in each column."
   ]
  },
  {
   "cell_type": "code",
   "execution_count": 5,
   "metadata": {},
   "outputs": [
    {
     "data": {
      "text/plain": [
       "ZPID            0.000000\n",
       "Type            0.000000\n",
       "ZipCode         0.000000\n",
       "Locality        0.000000\n",
       "State           0.000000\n",
       "Latitude        0.000000\n",
       "Longitude       0.000000\n",
       "Status          0.000000\n",
       "Description    21.948463\n",
       "CardBadge       0.135624\n",
       "Bedrooms        2.373418\n",
       "Bathrooms       2.056962\n",
       "Price           1.604882\n",
       "AreaSpace       2.350814\n",
       "Price/sqft      2.848101\n",
       "Mortgage        1.604882\n",
       "CashFlow        1.604882\n",
       "dtype: float64"
      ]
     },
     "execution_count": 5,
     "metadata": {},
     "output_type": "execute_result"
    }
   ],
   "source": [
    "zillowData.isna().sum()/len(zillowData.index)*100"
   ]
  },
  {
   "cell_type": "markdown",
   "metadata": {},
   "source": [
    "Except description, none of the columns have high percentage of missing values. Due to the small percentage, we can remove the entries which have missing values for important featues like bedrooms, bathrooms and area space."
   ]
  },
  {
   "cell_type": "code",
   "execution_count": 6,
   "metadata": {},
   "outputs": [],
   "source": [
    "zillowData = zillowData[np.isfinite(zillowData['Price'])]\n",
    "zillowData=zillowData.dropna(axis=0, subset=['AreaSpace','Bedrooms','Bathrooms'],how='any')"
   ]
  },
  {
   "cell_type": "markdown",
   "metadata": {},
   "source": [
    "<a id=\"4-3\"></a>\n",
    "### 4.3. Treating Outliers"
   ]
  },
  {
   "cell_type": "markdown",
   "metadata": {},
   "source": [
    "We can use records of type 'rent' to develop models which predicts rent. We can use those models to predict 'rent' for the records of type 'sale'."
   ]
  },
  {
   "cell_type": "code",
   "execution_count": 7,
   "metadata": {},
   "outputs": [
    {
     "name": "stdout",
     "output_type": "stream",
     "text": [
      "Number of records of type 'rent': 3771\n"
     ]
    }
   ],
   "source": [
    "zillowData=zillowData.loc[zillowData['State']=='VA']\n",
    "#Split the data into rent and sale.\n",
    "rentData=zillowData.loc[zillowData['Type']=='rent']\n",
    "saleData=zillowData.loc[zillowData['Type']=='sale']\n",
    "print(\"Number of records of type 'rent':\",len(rentData.index))"
   ]
  },
  {
   "cell_type": "markdown",
   "metadata": {},
   "source": [
    "Let us visualize the distribution of rent"
   ]
  },
  {
   "cell_type": "code",
   "execution_count": 8,
   "metadata": {},
   "outputs": [
    {
     "data": {
      "image/png": "[encoded data removed]",
      "text/plain": [
       "<Figure size 432x288 with 1 Axes>"
      ]
     },
     "metadata": {},
     "output_type": "display_data"
    }
   ],
   "source": [
    "#Distribution plot of rent\n",
    "sns.distplot(rentData['Price']);"
   ]
  },
  {
   "cell_type": "markdown",
   "metadata": {},
   "source": [
    "From the distribution plot we can observe that the rent varies from 0 to 3 million. Rent of 3 million does not make any sense. Some of the records should have been misclassified as 'rent' instead of 'sale'. Let us treat the outliers with z transformation. "
   ]
  },
  {
   "cell_type": "code",
   "execution_count": 9,
   "metadata": {},
   "outputs": [
    {
     "name": "stderr",
     "output_type": "stream",
     "text": [
      "C:\\ProgramData\\Anaconda3\\lib\\site-packages\\ipykernel_launcher.py:1: SettingWithCopyWarning: \n",
      "A value is trying to be set on a copy of a slice from a DataFrame.\n",
      "Try using .loc[row_indexer,col_indexer] = value instead\n",
      "\n",
      "See the caveats in the documentation: http://pandas.pydata.org/pandas-docs/stable/indexing.html#indexing-view-versus-copy\n",
      "  \"\"\"Entry point for launching an IPython kernel.\n",
      "C:\\ProgramData\\Anaconda3\\lib\\site-packages\\pandas\\core\\frame.py:3694: SettingWithCopyWarning: \n",
      "A value is trying to be set on a copy of a slice from a DataFrame\n",
      "\n",
      "See the caveats in the documentation: http://pandas.pydata.org/pandas-docs/stable/indexing.html#indexing-view-versus-copy\n",
      "  errors=errors)\n"
     ]
    },
    {
     "data": {
      "image/png": "[encoded data removed]",
      "text/plain": [
       "<Figure size 432x288 with 1 Axes>"
      ]
     },
     "metadata": {},
     "output_type": "display_data"
    }
   ],
   "source": [
    "rentData['z-value'] = (rentData['Price'] - rentData['Price'].mean())/rentData['Price'].std(ddof=0)\n",
    "rentData.drop(rentData[rentData['z-value'] > 1].index, inplace=True)\n",
    "#Distribution of rent after z-transformation.\n",
    "sns.distplot(rentData['Price']);"
   ]
  },
  {
   "cell_type": "markdown",
   "metadata": {},
   "source": [
    "We can observe that the data is highly skewed towards the right. Still the outliers which the data has does not reperesent the possible rent a property could have. Therfore, value of 6000 is taken as a threshold. Let us visualize the distribution after removing outliers above the threshold."
   ]
  },
  {
   "cell_type": "code",
   "execution_count": 10,
   "metadata": {},
   "outputs": [
    {
     "name": "stdout",
     "output_type": "stream",
     "text": [
      "Number of records after removing outliers:  3579\n"
     ]
    },
    {
     "data": {
      "image/png": "[encoded data removed]",
      "text/plain": [
       "<Figure size 432x288 with 1 Axes>"
      ]
     },
     "metadata": {},
     "output_type": "display_data"
    }
   ],
   "source": [
    "rentData=rentData.loc[rentData['Price']<6000]\n",
    "sns.distplot(rentData['Price']);\n",
    "print(\"Number of records after removing outliers: \",len(rentData.index))"
   ]
  },
  {
   "cell_type": "markdown",
   "metadata": {},
   "source": [
    "Now, we got a near normal distribution. We can proceed for analysis with this data."
   ]
  },
  {
   "cell_type": "markdown",
   "metadata": {},
   "source": [
    "<a id=\"5\"></a>\n",
    "## 5. Exploratory Data Analysis"
   ]
  },
  {
   "cell_type": "markdown",
   "metadata": {},
   "source": [
    "Let us visualize the distribution of rent across different localities of Virginia."
   ]
  },
  {
   "cell_type": "markdown",
   "metadata": {},
   "source": [
    "<a id=\"5-1\"></a>\n",
    "### 5.1. **Locality**"
   ]
  },
  {
   "cell_type": "code",
   "execution_count": 11,
   "metadata": {},
   "outputs": [
    {
     "data": {
      "image/png": "[encoded data removed]",
      "text/plain": [
       "<Figure size 576x432 with 1 Axes>"
      ]
     },
     "metadata": {},
     "output_type": "display_data"
    }
   ],
   "source": [
    "f, ax = plt.subplots(figsize=(8, 6))\n",
    "fig = sns.boxplot(x=\"Price\", y=\"Locality\", data=rentData)"
   ]
  },
  {
   "cell_type": "markdown",
   "metadata": {},
   "source": [
    "The rent in Alexandria is skwed towards right and house rent in Arlington has lot of outliers. From this we can obseve that Arlington has more houses with high rents. This could be an important feature in our models. Now let us visualize the distribution of rent across zipcodes."
   ]
  },
  {
   "cell_type": "markdown",
   "metadata": {},
   "source": [
    "<a id=\"5-2\"></a>\n",
    "### 5.2. Zipcode"
   ]
  },
  {
   "cell_type": "code",
   "execution_count": 12,
   "metadata": {},
   "outputs": [
    {
     "data": {
      "image/png": "[encoded data removed]",
      "text/plain": [
       "<Figure size 720x432 with 1 Axes>"
      ]
     },
     "metadata": {},
     "output_type": "display_data"
    }
   ],
   "source": [
    "f, ax = plt.subplots(figsize=(10, 6))\n",
    "fig = sns.boxplot(x=\"ZipCode\", y=\"Price\", data=rentData)"
   ]
  },
  {
   "cell_type": "markdown",
   "metadata": {},
   "source": [
    "<a id=\"5-3\"></a>\n",
    "### 5.3. Area Space"
   ]
  },
  {
   "cell_type": "markdown",
   "metadata": {},
   "source": [
    "Relationship between area space and rent seems to be linearly corelated. The regression plot between them are shown below."
   ]
  },
  {
   "cell_type": "code",
   "execution_count": 13,
   "metadata": {},
   "outputs": [
    {
     "data": {
      "image/png": "[encoded data removed]",
      "text/plain": [
       "<Figure size 720x432 with 1 Axes>"
      ]
     },
     "metadata": {},
     "output_type": "display_data"
    }
   ],
   "source": [
    "f, ax = plt.subplots(figsize=(10, 6))\n",
    "fig = sns.regplot(x=\"AreaSpace\", y=\"Price\", data=rentData)"
   ]
  },
  {
   "cell_type": "markdown",
   "metadata": {},
   "source": [
    "<a id=\"5-4\"></a>\n",
    "### 5.4. Bedrooms"
   ]
  },
  {
   "cell_type": "markdown",
   "metadata": {},
   "source": [
    "Let us visualize the distribution of rent for differnt categorical predictors."
   ]
  },
  {
   "cell_type": "code",
   "execution_count": 14,
   "metadata": {},
   "outputs": [
    {
     "data": {
      "image/png": "[encoded data removed]",
      "text/plain": [
       "<Figure size 720x432 with 1 Axes>"
      ]
     },
     "metadata": {},
     "output_type": "display_data"
    }
   ],
   "source": [
    "f, ax = plt.subplots(figsize=(10, 6))\n",
    "fig = sns.boxplot(x=\"Bedrooms\", y=\"Price\", data=rentData)"
   ]
  },
  {
   "cell_type": "markdown",
   "metadata": {},
   "source": [
    "<a id=\"5-5\"></a>\n",
    "### 5.5. Bathrooms"
   ]
  },
  {
   "cell_type": "code",
   "execution_count": 15,
   "metadata": {},
   "outputs": [
    {
     "data": {
      "image/png": "[encoded data removed]",
      "text/plain": [
       "<Figure size 720x432 with 1 Axes>"
      ]
     },
     "metadata": {},
     "output_type": "display_data"
    }
   ],
   "source": [
    "f, ax = plt.subplots(figsize=(10, 6))\n",
    "fig = sns.boxplot(x=\"Bathrooms\", y=\"Price\", data=rentData)"
   ]
  },
  {
   "cell_type": "markdown",
   "metadata": {},
   "source": [
    "As expected, all of these features seems to be good predicotrs for predicting rent."
   ]
  },
  {
   "cell_type": "markdown",
   "metadata": {},
   "source": [
    "<a id=\"6\"></a>\n",
    "## 6.**Model Building**"
   ]
  },
  {
   "cell_type": "markdown",
   "metadata": {},
   "source": [
    "<a id=\"6-1\"></a>\n",
    "### 6.1. Preprocessing"
   ]
  },
  {
   "cell_type": "markdown",
   "metadata": {},
   "source": [
    "Before moving to the modeling, let us remove features will not be useful. Featurs like 'Cashflow', 'Price/sqft' and 'Mortgage' directly determine rent and may not be present in records of type 'sale'. Therefore those features are removed."
   ]
  },
  {
   "cell_type": "code",
   "execution_count": 16,
   "metadata": {},
   "outputs": [
    {
     "name": "stdout",
     "output_type": "stream",
     "text": [
      "Columns after removing some predictors:  ['ZipCode', 'Locality', 'Latitude', 'Longitude', 'Bedrooms', 'Bathrooms', 'Price', 'AreaSpace']\n"
     ]
    }
   ],
   "source": [
    "\n",
    "rentData.drop(['CardBadge', \n",
    "                'Status', 'Description','State','Type','ZPID','Mortgage','CashFlow','Price/sqft','z-value',], axis=1, inplace=True)\n",
    "\n",
    "print(\"Columns after removing some predictors: \",list(rentData.columns))"
   ]
  },
  {
   "cell_type": "markdown",
   "metadata": {},
   "source": [
    "Categorical predictors need to be encoded to be used in predictive models. Therfore, categorical features are encoded and predictors are split into train and test sets so that models can be cross validated."
   ]
  },
  {
   "cell_type": "code",
   "execution_count": 17,
   "metadata": {},
   "outputs": [],
   "source": [
    "rentData = pd.get_dummies( rentData, columns = ['ZipCode','Locality'] )\n",
    "train_features, test_features, train_labels, test_labels = train_test_split(rentData.loc[:, rentData.columns != 'Price'], rentData['Price'], test_size = 0.25, random_state = 42)"
   ]
  },
  {
   "cell_type": "markdown",
   "metadata": {},
   "source": [
    "<a id=\"6-2\"></a>\n",
    "### 6.2. Linear Regression"
   ]
  },
  {
   "cell_type": "markdown",
   "metadata": {},
   "source": [
    "A simple baseline model would give us an idea about accuracy and error. We can improve the model and decrease error from the baseline solution further. Root mean squared error on test data after running a linear regression model is shown below."
   ]
  },
  {
   "cell_type": "code",
   "execution_count": 18,
   "metadata": {},
   "outputs": [
    {
     "name": "stdout",
     "output_type": "stream",
     "text": [
      "RMSE on test data: 419.8985826432038\n"
     ]
    }
   ],
   "source": [
    "regr = linear_model.LinearRegression()\n",
    "regr.fit(train_features, train_labels)\n",
    "lmPredictions = regr.predict(test_features)\n",
    "print(\"RMSE on test data:\",sqrt(mean_squared_error(lmPredictions,test_labels)))"
   ]
  },
  {
   "cell_type": "markdown",
   "metadata": {},
   "source": [
    "RMSE is around 419. That is, our model predicts rent for the houses which does not have information about rent with the accuracy of (+/-) $419."
   ]
  },
  {
   "cell_type": "markdown",
   "metadata": {},
   "source": [
    "<a id=\"6-3\"></a>\n",
    "### 6.3. Lasso Regression"
   ]
  },
  {
   "cell_type": "markdown",
   "metadata": {},
   "source": [
    "Root mean squared error on test data after running lasso regression model is shown below."
   ]
  },
  {
   "cell_type": "code",
   "execution_count": 19,
   "metadata": {},
   "outputs": [
    {
     "name": "stdout",
     "output_type": "stream",
     "text": [
      "RMSE on test data: 422.870815490899\n"
     ]
    }
   ],
   "source": [
    "lassoModel= linear_model.Lasso(alpha=1.0)\n",
    "lassoModel.fit(train_features, train_labels)\n",
    "predictions = lassoModel.predict(test_features)\n",
    "print(\"RMSE on test data:\",sqrt(mean_squared_error(predictions,test_labels)))"
   ]
  },
  {
   "cell_type": "markdown",
   "metadata": {},
   "source": [
    "Lasso model is performing poorer than our baseline model. Let us try some more algorithms."
   ]
  },
  {
   "cell_type": "markdown",
   "metadata": {},
   "source": [
    "<a id=\"6-4\"></a>\n",
    "### 6.4. Random Forest"
   ]
  },
  {
   "cell_type": "markdown",
   "metadata": {},
   "source": [
    "Root mean squared error on test data after running random forest model is shown below."
   ]
  },
  {
   "cell_type": "code",
   "execution_count": 20,
   "metadata": {},
   "outputs": [
    {
     "name": "stderr",
     "output_type": "stream",
     "text": [
      "C:\\ProgramData\\Anaconda3\\lib\\site-packages\\ipykernel_launcher.py:2: FutureWarning: convert_objects is deprecated.  To re-infer data dtypes for object columns, use Series.infer_objects()\n",
      "For all other conversions use the data-type specific converters pd.to_datetime, pd.to_timedelta and pd.to_numeric.\n",
      "  \n"
     ]
    },
    {
     "name": "stdout",
     "output_type": "stream",
     "text": [
      "RMSE on test data: 280.8104460961389\n"
     ]
    }
   ],
   "source": [
    "rf = RandomForestRegressor(n_estimators = 1000, random_state = 42)\n",
    "train_labels=train_labels.convert_objects(convert_numeric=True)\n",
    "train_features=np.nan_to_num(train_features)\n",
    "rf.fit(train_features, train_labels)\n",
    "predictions = rf.predict(test_features)\n",
    "print(\"RMSE on test data:\",sqrt(mean_squared_error(predictions,test_labels)))"
   ]
  },
  {
   "cell_type": "markdown",
   "metadata": {},
   "source": [
    "We can observe that the RMSE has decreased drastically from our baseline model. Random forest models also help in finding the importance of various features in predicting the rent. Features and their imortance are shown below."
   ]
  },
  {
   "cell_type": "code",
   "execution_count": 21,
   "metadata": {},
   "outputs": [],
   "source": [
    "def plot_feature_importances(clf, X_train, y_train=None, \n",
    "                             top_n=10, figsize=(8,8), print_table=False, title=\"Feature Importances\"):\n",
    "            \n",
    "    feat_imp = pd.DataFrame({'importance':clf.feature_importances_})    \n",
    "    feat_imp['feature'] = X_train.columns\n",
    "    feat_imp.sort_values(by='importance', ascending=False, inplace=True)\n",
    "    feat_imp = feat_imp.iloc[:top_n]\n",
    "    \n",
    "    feat_imp.sort_values(by='importance', inplace=True)\n",
    "    feat_imp = feat_imp.set_index('feature', drop=True)\n",
    "    feat_imp.plot.barh(title=title, figsize=figsize)\n",
    "    plt.xlabel('Feature Importance Score')\n",
    "    plt.show()\n",
    "    \n",
    "    if print_table:\n",
    "        from IPython.display import display\n",
    "        print(\"Top {} features in descending order of importance\".format(top_n))\n",
    "        display(feat_imp.sort_values(by='importance', ascending=False))\n",
    "        \n",
    "    return feat_imp"
   ]
  },
  {
   "cell_type": "code",
   "execution_count": 22,
   "metadata": {},
   "outputs": [
    {
     "data": {
      "image/png": "[encoded data removed]",
      "text/plain": [
       "<Figure size 576x576 with 1 Axes>"
      ]
     },
     "metadata": {},
     "output_type": "display_data"
    },
    {
     "data": {
      "text/html": [
       "<div>\n",
       "<style scoped>\n",
       "    .dataframe tbody tr th:only-of-type {\n",
       "        vertical-align: middle;\n",
       "    }\n",
       "\n",
       "    .dataframe tbody tr th {\n",
       "        vertical-align: top;\n",
       "    }\n",
       "\n",
       "    .dataframe thead th {\n",
       "        text-align: right;\n",
       "    }\n",
       "</style>\n",
       "<table border=\"1\" class=\"dataframe\">\n",
       "  <thead>\n",
       "    <tr style=\"text-align: right;\">\n",
       "      <th></th>\n",
       "      <th>importance</th>\n",
       "    </tr>\n",
       "    <tr>\n",
       "      <th>feature</th>\n",
       "      <th></th>\n",
       "    </tr>\n",
       "  </thead>\n",
       "  <tbody>\n",
       "    <tr>\n",
       "      <th>ZipCode_22202</th>\n",
       "      <td>0.003038</td>\n",
       "    </tr>\n",
       "    <tr>\n",
       "      <th>ZipCode_22206</th>\n",
       "      <td>0.003974</td>\n",
       "    </tr>\n",
       "    <tr>\n",
       "      <th>ZipCode_22209</th>\n",
       "      <td>0.003989</td>\n",
       "    </tr>\n",
       "    <tr>\n",
       "      <th>ZipCode_22204</th>\n",
       "      <td>0.007988</td>\n",
       "    </tr>\n",
       "    <tr>\n",
       "      <th>ZipCode_22314</th>\n",
       "      <td>0.011878</td>\n",
       "    </tr>\n",
       "    <tr>\n",
       "      <th>Bedrooms</th>\n",
       "      <td>0.019231</td>\n",
       "    </tr>\n",
       "    <tr>\n",
       "      <th>Longitude</th>\n",
       "      <td>0.138731</td>\n",
       "    </tr>\n",
       "    <tr>\n",
       "      <th>Latitude</th>\n",
       "      <td>0.188071</td>\n",
       "    </tr>\n",
       "    <tr>\n",
       "      <th>AreaSpace</th>\n",
       "      <td>0.209424</td>\n",
       "    </tr>\n",
       "    <tr>\n",
       "      <th>Bathrooms</th>\n",
       "      <td>0.401527</td>\n",
       "    </tr>\n",
       "  </tbody>\n",
       "</table>\n",
       "</div>"
      ],
      "text/plain": [
       "               importance\n",
       "feature                  \n",
       "ZipCode_22202    0.003038\n",
       "ZipCode_22206    0.003974\n",
       "ZipCode_22209    0.003989\n",
       "ZipCode_22204    0.007988\n",
       "ZipCode_22314    0.011878\n",
       "Bedrooms         0.019231\n",
       "Longitude        0.138731\n",
       "Latitude         0.188071\n",
       "AreaSpace        0.209424\n",
       "Bathrooms        0.401527"
      ]
     },
     "execution_count": 22,
     "metadata": {},
     "output_type": "execute_result"
    }
   ],
   "source": [
    "plot_feature_importances(rf,rentData.loc[:, rentData.columns != 'Price'])"
   ]
  },
  {
   "cell_type": "markdown",
   "metadata": {},
   "source": [
    "It is surprising that number of bathrooms in the house is more important predictor than zipcode or number of bedrooms."
   ]
  },
  {
   "cell_type": "markdown",
   "metadata": {},
   "source": [
    "<a id=\"6-5\"></a>\n",
    "### 6.5. XGBoost"
   ]
  },
  {
   "cell_type": "markdown",
   "metadata": {},
   "source": [
    "XGBoost or Extreme Gradient Boosting is an algorithm which has become popular recently and has been a part of many prize winning competetion entries in Kaggle. Randomized Search CV helps us find the optimal hyperparameters for the XGBoost model by searching and cross-validating in the given space. The results of Randomized Search CV are shown below."
   ]
  },
  {
   "cell_type": "code",
   "execution_count": 23,
   "metadata": {},
   "outputs": [],
   "source": [
    "def report_best_scores(results, n_top=3):\n",
    "    for i in range(1, n_top + 1):\n",
    "        candidates = np.flatnonzero(results['rank_test_score'] == i)\n",
    "        for candidate in candidates:\n",
    "            print(\"Model with rank: {0}\".format(i))\n",
    "            print(\"Mean validation score: {0:.3f} (std: {1:.3f})\".format(\n",
    "                  results['mean_test_score'][candidate],\n",
    "                  results['std_test_score'][candidate]))\n",
    "            print(\"Parameters: {0}\".format(results['params'][candidate]))\n",
    "            print(\"\")"
   ]
  },
  {
   "cell_type": "code",
   "execution_count": 24,
   "metadata": {},
   "outputs": [
    {
     "name": "stdout",
     "output_type": "stream",
     "text": [
      "Fitting 3 folds for each of 200 candidates, totalling 600 fits\n"
     ]
    },
    {
     "name": "stderr",
     "output_type": "stream",
     "text": [
      "[Parallel(n_jobs=1)]: Done 600 out of 600 | elapsed:  2.2min finished\n"
     ]
    },
    {
     "name": "stdout",
     "output_type": "stream",
     "text": [
      "Model with rank: 1\n",
      "Mean validation score: 0.862 (std: 0.013)\n",
      "Parameters: {'colsample_bytree': 0.9700055925544315, 'gamma': 0.4369450387812576, 'learning_rate': 0.2092239306510925, 'max_depth': 5, 'n_estimators': 144, 'subsample': 0.8660146698185022}\n",
      "\n"
     ]
    }
   ],
   "source": [
    "xgb = XGBRegressor()\n",
    "params = {\n",
    "    \"colsample_bytree\": uniform(0.7, 0.3),\n",
    "    \"gamma\": uniform(0, 0.5),\n",
    "    \"learning_rate\": uniform(0.03, 0.3), # default 0.1 \n",
    "    \"max_depth\": randint(2, 6), # default 3\n",
    "    \"n_estimators\": randint(100, 150), # default 100\n",
    "    \"subsample\": uniform(0.6, 0.4)\n",
    "}\n",
    "search = RandomizedSearchCV(xgb, param_distributions=params, random_state=42, n_iter=200, cv=3, verbose=1, n_jobs=1, return_train_score=True)\n",
    "\n",
    "#xgb.fit(train_features, train_labels)\n",
    "search.fit(train_features, train_labels)\n",
    "\n",
    "report_best_scores(search.cv_results_, 1)\n"
   ]
  },
  {
   "cell_type": "markdown",
   "metadata": {},
   "source": [
    "Hyperparameters obtained from the RandomizedSearch are used to develop the XGBoost model. The RMSE after peforming XGBoost is shown below."
   ]
  },
  {
   "cell_type": "code",
   "execution_count": 25,
   "metadata": {},
   "outputs": [
    {
     "name": "stdout",
     "output_type": "stream",
     "text": [
      "RMSE on test data 259.8880550796711\n"
     ]
    },
    {
     "name": "stderr",
     "output_type": "stream",
     "text": [
      "C:\\ProgramData\\Anaconda3\\lib\\site-packages\\ipykernel_launcher.py:3: FutureWarning: Method .as_matrix will be removed in a future version. Use .values instead.\n",
      "  This is separate from the ipykernel package so we can avoid doing imports until\n"
     ]
    }
   ],
   "source": [
    "xgb = XGBRegressor(colsample_bytree = 0.9700055925544315, gamma = 0.4369450387812576, learning_rate =0.2092239306510925, max_depth = 5, n_estimators = 144,subsample = 0.8660146698185022)\n",
    "xgb.fit(train_features, train_labels)\n",
    "predictions = xgb.predict(test_features.as_matrix())\n",
    "print(\"RMSE on test data\",sqrt(mean_squared_error(predictions,test_labels)))"
   ]
  },
  {
   "cell_type": "markdown",
   "metadata": {},
   "source": [
    "We were able to reduce the RMSE further using XGBoost."
   ]
  },
  {
   "cell_type": "markdown",
   "metadata": {},
   "source": [
    "<a id=\"7\"></a>\n",
    "## 7.**Future Work**"
   ]
  },
  {
   "cell_type": "markdown",
   "metadata": {},
   "source": [
    "1. The dataset being small eliminated possibility of performing deep learning models and models such as Light Gradient Boosting.\n",
    "2. Stacking all these algorithms and building an ensemble model could improve the accuracy.\n",
    "3. More features could be extracted from the 'Description' column and text analysis could be performed."
   ]
  }
 ],
 "metadata": {
  "kernelspec": {
   "display_name": "Python 3",
   "language": "python",
   "name": "python3"
  },
  "language_info": {
   "codemirror_mode": {
    "name": "ipython",
    "version": 3
   },
   "file_extension": ".py",
   "mimetype": "text/x-python",
   "name": "python",
   "nbconvert_exporter": "python",
   "pygments_lexer": "ipython3",
   "version": "3.6.5"
  }
 },
 "nbformat": 4,
 "nbformat_minor": 2
}
